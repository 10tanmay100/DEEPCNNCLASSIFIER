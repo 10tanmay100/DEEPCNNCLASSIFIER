{
 "cells": [
  {
   "cell_type": "code",
   "execution_count": 2,
   "metadata": {},
   "outputs": [],
   "source": [
    "import os\n",
    "os.chdir(\"E:/Ineuron/Project/Deep Learning Project/DeepCNNClassifier/DEEPCNNCLASSIFIER\")"
   ]
  },
  {
   "cell_type": "code",
   "execution_count": 3,
   "metadata": {},
   "outputs": [],
   "source": [
    "from dataclasses import dataclass\n",
    "from pathlib import Path\n",
    "\n",
    "\n",
    "@dataclass(frozen=True)\n",
    "class PrepareCallBacksConfig:\n",
    "    root_dir: Path\n",
    "    tensorboard_root_log_dir: Path\n",
    "    checkpoint_model_file_path: Path"
   ]
  },
  {
   "cell_type": "code",
   "execution_count": 4,
   "metadata": {},
   "outputs": [],
   "source": [
    "from deepClassifier.constants import *\n",
    "from deepClassifier.utils import read_yaml, create_directories\n",
    "class ConfigurationManager:\n",
    "    def __init__(\n",
    "        self, \n",
    "        config_filepath = CONFIG_FILE_PATH,\n",
    "        params_filepath = PARAMS_FILE_PATH):\n",
    "        self.config = read_yaml(config_filepath)\n",
    "        self.params = read_yaml(params_filepath)\n",
    "        create_directories([self.config.artifacts_root])\n",
    "\n",
    "    def get_prepare_callback_config(self) -> PrepareCallBacksConfig:\n",
    "        config = self.config.prepare_callbacks\n",
    "        checkpoint_dir=os.path.dirname(config.checkpoint_model_file_path)\n",
    "        \n",
    "        create_directories([config.tensorboard_root_log_dir,checkpoint_dir])\n",
    "\n",
    "        prepare_base_model_config = PrepareCallBacksConfig(\n",
    "            root_dir=Path(config.root_dir),\n",
    "            tensorboard_root_log_dir=Path(config.tensorboard_root_log_dir),\n",
    "            checkpoint_model_file_path=Path(config.checkpoint_model_file_path)\n",
    "        )\n",
    "\n",
    "        return prepare_base_model_config"
   ]
  },
  {
   "cell_type": "code",
   "execution_count": 5,
   "metadata": {},
   "outputs": [],
   "source": [
    "import time"
   ]
  },
  {
   "cell_type": "code",
   "execution_count": 6,
   "metadata": {},
   "outputs": [],
   "source": [
    "import os\n",
    "import urllib.request as request\n",
    "from zipfile import ZipFile\n",
    "import tensorflow as tf\n",
    "\n",
    "class PrepareCallback:\n",
    "    def __init__(self, config: PrepareCallBacksConfig):\n",
    "        self.config = config\n",
    "    @property\n",
    "    def _create_tb_ckpt_callbacks(self):\n",
    "        timestamp=time.strftime(\"%Y-%m-%dT%H:%M:%S\")\n",
    "        tb_running_log_dir=os.path.join(self.config.tensorboard_root_log_dir,\n",
    "        f\"tb_logs_at {timestamp}\")\n",
    "        return [\n",
    "            tf.keras.callbacks.TensorBoard(log_dir=tb_running_log_dir)]\n",
    "    @property\n",
    "    def _create_ckpt_callbacks(self):\n",
    "        return tf.keras.callbacks.ModelCheckpoint(filepath=self.config.checkpoint_model_file_path,\n",
    "        save_best_only=True)\n",
    "    \n",
    "    def get_tb_ckpt_callbacks(self):\n",
    "        return [\n",
    "            self._create_tb_ckpt_callbacks,\n",
    "            self._create_ckpt_callbacks,\n",
    "        ]"
   ]
  },
  {
   "cell_type": "code",
   "execution_count": 7,
   "metadata": {},
   "outputs": [
    {
     "name": "stdout",
     "output_type": "stream",
     "text": [
      "[2022-09-25 08:01:33,383: INFO: common]: yaml file: configs\\config.yaml loaded successfully\n",
      "[2022-09-25 08:01:33,850: INFO: common]: yaml file: params.yaml loaded successfully\n",
      "[2022-09-25 08:01:34,015: INFO: common]: created directory at: artifacts\n",
      "[2022-09-25 08:01:34,017: INFO: common]: created directory at: artifacts/prepare_callbacks/tensorboard_log_dir\n",
      "[2022-09-25 08:01:34,019: INFO: common]: created directory at: artifacts/prepare_callbacks/checkpoint_dir\n"
     ]
    }
   ],
   "source": [
    "try:\n",
    "    config = ConfigurationManager()\n",
    "    prepare_callback_config = config.get_prepare_callback_config()\n",
    "    prepare_callback = PrepareCallback(config=prepare_callback_config)\n",
    "    call_back_list=prepare_callback.get_tb_ckpt_callbacks()\n",
    "except Exception as e:\n",
    "    raise e"
   ]
  },
  {
   "cell_type": "code",
   "execution_count": null,
   "metadata": {},
   "outputs": [],
   "source": []
  },
  {
   "cell_type": "code",
   "execution_count": null,
   "metadata": {},
   "outputs": [],
   "source": []
  },
  {
   "cell_type": "code",
   "execution_count": null,
   "metadata": {},
   "outputs": [],
   "source": []
  },
  {
   "cell_type": "code",
   "execution_count": null,
   "metadata": {},
   "outputs": [],
   "source": []
  },
  {
   "cell_type": "code",
   "execution_count": null,
   "metadata": {},
   "outputs": [],
   "source": []
  },
  {
   "cell_type": "code",
   "execution_count": null,
   "metadata": {},
   "outputs": [],
   "source": []
  }
 ],
 "metadata": {
  "kernelspec": {
   "display_name": "Python 3.8.13 (conda)",
   "language": "python",
   "name": "python3"
  },
  "language_info": {
   "codemirror_mode": {
    "name": "ipython",
    "version": 3
   },
   "file_extension": ".py",
   "mimetype": "text/x-python",
   "name": "python",
   "nbconvert_exporter": "python",
   "pygments_lexer": "ipython3",
   "version": "3.8.13"
  },
  "orig_nbformat": 4,
  "vscode": {
   "interpreter": {
    "hash": "cbdde758ab3ca610b4b8922e54306c8c83d41d9a508d54d67c7ecaf96b8bc1e5"
   }
  }
 },
 "nbformat": 4,
 "nbformat_minor": 2
}
