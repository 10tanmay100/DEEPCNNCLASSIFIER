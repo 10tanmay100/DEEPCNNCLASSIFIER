{
 "cells": [
  {
   "cell_type": "code",
   "execution_count": 23,
   "metadata": {},
   "outputs": [],
   "source": [
    "import tensorflow as tf\n",
    "import os"
   ]
  },
  {
   "cell_type": "code",
   "execution_count": 24,
   "metadata": {},
   "outputs": [],
   "source": [
    "os.chdir(\"E:\\Ineuron\\Project\\Deep Learning Project\\DeepCNNClassifier\\DEEPCNNCLASSIFIER\")"
   ]
  },
  {
   "cell_type": "code",
   "execution_count": 25,
   "metadata": {},
   "outputs": [],
   "source": [
    "model=tf.keras.models.load_model(\"artifacts/training/model.h5\")"
   ]
  },
  {
   "cell_type": "code",
   "execution_count": 26,
   "metadata": {},
   "outputs": [],
   "source": [
    "from dataclasses import dataclass\n",
    "from pathlib import Path"
   ]
  },
  {
   "cell_type": "code",
   "execution_count": 27,
   "metadata": {},
   "outputs": [],
   "source": [
    "@dataclass(frozen=True)\n",
    "class Evaluation_config:\n",
    "    model_path:Path\n",
    "    training_data:Path\n",
    "    params_image_size:list\n",
    "    params_batch_size:int"
   ]
  },
  {
   "cell_type": "code",
   "execution_count": 28,
   "metadata": {},
   "outputs": [],
   "source": [
    "from deepClassifier.constants import *\n",
    "from deepClassifier.utils import read_yaml, create_directories,save_json\n",
    "import tensorflow as tf\n",
    "\n",
    "\n",
    "class ConfigurationManager:\n",
    "    def __init__(\n",
    "        self, \n",
    "        config_filepath = CONFIG_FILE_PATH,\n",
    "        params_filepath = PARAMS_FILE_PATH):\n",
    "        self.config = read_yaml(config_filepath)\n",
    "        self.params = read_yaml(params_filepath)\n",
    "        create_directories([self.config.artifacts_root])\n",
    "\n",
    "    def get_evaluation_config(self) -> Evaluation_config:\n",
    "        return Evaluation_config(model_path=self.config.training.trained_model_path,training_data=\"artifacts/data_ingestion/PetImages\",params_batch_size=self.params.BATCH_SIZE,params_image_size=self.params.IMAGE_SIZE)"
   ]
  },
  {
   "cell_type": "code",
   "execution_count": 29,
   "metadata": {},
   "outputs": [],
   "source": [
    "import os\n",
    "import tensorflow as tf\n",
    "import time\n",
    "import urllib.request as request\n",
    "from zipfile import ZipFile\n",
    "from deepClassifier.entity import TrainingConfig\n",
    "import tensorflow as tf\n",
    "from pathlib import Path\n",
    "\n",
    "class Evaluation:\n",
    "    def __init__(self, config: Evaluation_config):\n",
    "        self.config = config\n",
    "\n",
    "    def _valid_generator(self):\n",
    "\n",
    "        datagenerator_kwargs = dict(\n",
    "            rescale = 1./255,\n",
    "            validation_split=0.30\n",
    "        )\n",
    "\n",
    "        dataflow_kwargs = dict(\n",
    "            target_size=self.config.params_image_size[:-1],\n",
    "            batch_size=self.config.params_batch_size,\n",
    "            interpolation=\"bilinear\"\n",
    "        )\n",
    "\n",
    "        valid_datagenerator = tf.keras.preprocessing.image.ImageDataGenerator(\n",
    "            **datagenerator_kwargs\n",
    "        )\n",
    "\n",
    "        self.valid_generator = valid_datagenerator.flow_from_directory(\n",
    "            directory=self.config.training_data,\n",
    "            subset=\"validation\",\n",
    "            shuffle=False,\n",
    "            **dataflow_kwargs\n",
    "        )\n",
    "\n",
    "    @staticmethod\n",
    "    def load_model(model_path: Path)->tf.keras.Model:\n",
    "        return tf.keras.models.load_model(model_path)\n",
    "\n",
    "\n",
    "    def evaluation(self):\n",
    "        model=self.load_model(self.config.model_path)\n",
    "        self._valid_generator()\n",
    "        self.score=model.evaluate(self.valid_generator)\n",
    "    def save_score(self):\n",
    "        result={\"loss\":self.score[0],\"accuracy\":self.score[1]}\n",
    "        save_json(Path(\"scores.json\"),data=result)\n",
    "        \n",
    "        \n",
    "\n",
    "        "
   ]
  },
  {
   "cell_type": "code",
   "execution_count": 30,
   "metadata": {},
   "outputs": [
    {
     "name": "stdout",
     "output_type": "stream",
     "text": [
      "[2022-09-28 09:27:26,702: INFO: common]: yaml file: configs\\config.yaml loaded successfully\n",
      "[2022-09-28 09:27:26,705: INFO: common]: yaml file: params.yaml loaded successfully\n",
      "[2022-09-28 09:27:26,707: INFO: common]: created directory at: artifacts\n",
      "Found 7498 images belonging to 2 classes.\n",
      "469/469 [==============================] - 1156s 2s/step - loss: 3.2728 - accuracy: 0.7858\n",
      "[2022-09-28 09:46:43,624: INFO: common]: json file saved at: scores.json\n"
     ]
    }
   ],
   "source": [
    "try:\n",
    "    config = ConfigurationManager()\n",
    "    evaluation_config = config.get_evaluation_config()\n",
    "    eval=Evaluation(evaluation_config)\n",
    "    eval.evaluation()\n",
    "    eval.save_score()\n",
    "except Exception as e:\n",
    "    raise e"
   ]
  },
  {
   "cell_type": "code",
   "execution_count": null,
   "metadata": {},
   "outputs": [],
   "source": []
  },
  {
   "cell_type": "code",
   "execution_count": null,
   "metadata": {},
   "outputs": [],
   "source": []
  },
  {
   "cell_type": "code",
   "execution_count": null,
   "metadata": {},
   "outputs": [],
   "source": []
  },
  {
   "cell_type": "code",
   "execution_count": null,
   "metadata": {},
   "outputs": [],
   "source": []
  },
  {
   "cell_type": "code",
   "execution_count": null,
   "metadata": {},
   "outputs": [],
   "source": []
  }
 ],
 "metadata": {
  "kernelspec": {
   "display_name": "Python 3.8.13 (conda)",
   "language": "python",
   "name": "python3"
  },
  "language_info": {
   "codemirror_mode": {
    "name": "ipython",
    "version": 3
   },
   "file_extension": ".py",
   "mimetype": "text/x-python",
   "name": "python",
   "nbconvert_exporter": "python",
   "pygments_lexer": "ipython3",
   "version": "3.8.13"
  },
  "orig_nbformat": 4,
  "vscode": {
   "interpreter": {
    "hash": "cbdde758ab3ca610b4b8922e54306c8c83d41d9a508d54d67c7ecaf96b8bc1e5"
   }
  }
 },
 "nbformat": 4,
 "nbformat_minor": 2
}
